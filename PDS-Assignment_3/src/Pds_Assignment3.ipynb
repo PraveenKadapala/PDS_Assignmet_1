{
  "nbformat": 4,
  "nbformat_minor": 0,
  "metadata": {
    "colab": {
      "provenance": []
    },
    "kernelspec": {
      "name": "python3",
      "display_name": "Python 3"
    },
    "language_info": {
      "name": "python"
    }
  },
  "cells": [
    {
      "cell_type": "code",
      "execution_count": 1,
      "metadata": {
        "id": "fdaRTRe_Gio0"
      },
      "outputs": [],
      "source": [
        "import urllib.request\n",
        "import json\n",
        "import pandas as pd"
      ]
    },
    {
      "cell_type": "code",
      "source": [
        "url = \"https://api.openweathermap.org/data/2.5/forecast?lat=44.34&lon=10.99&appid=00cb82265e4be93fe9f393b7530f025b\"\n",
        "response = urllib.request.urlopen(url)\n",
        "data = response.read().decode('UTF-8')"
      ],
      "metadata": {
        "id": "2EVgQZruGop-"
      },
      "execution_count": 2,
      "outputs": []
    },
    {
      "cell_type": "code",
      "source": [
        "print(data)"
      ],
      "metadata": {
        "colab": {
          "base_uri": "https://localhost:8080/"
        },
        "id": "UxDgk-p2HP1u",
        "outputId": "3c39367c-d43c-4790-c948-a95d42856b5d"
      },
      "execution_count": 3,
      "outputs": [
        {
          "output_type": "stream",
          "name": "stdout",
          "text": [
            "{\"cod\":\"200\",\"message\":0,\"cnt\":40,\"list\":[{\"dt\":1713333600,\"main\":{\"temp\":278.58,\"feels_like\":278.58,\"temp_min\":278.58,\"temp_max\":279.99,\"pressure\":1006,\"sea_level\":1006,\"grnd_level\":938,\"humidity\":87,\"temp_kf\":-1.41},\"weather\":[{\"id\":804,\"main\":\"Clouds\",\"description\":\"overcast clouds\",\"icon\":\"04d\"}],\"clouds\":{\"all\":97},\"wind\":{\"speed\":1.15,\"deg\":306,\"gust\":1.8},\"visibility\":10000,\"pop\":0,\"sys\":{\"pod\":\"d\"},\"dt_txt\":\"2024-04-17 06:00:00\"},{\"dt\":1713344400,\"main\":{\"temp\":281.51,\"feels_like\":280.64,\"temp_min\":281.51,\"temp_max\":283.33,\"pressure\":1006,\"sea_level\":1006,\"grnd_level\":938,\"humidity\":73,\"temp_kf\":-1.82},\"weather\":[{\"id\":804,\"main\":\"Clouds\",\"description\":\"overcast clouds\",\"icon\":\"04d\"}],\"clouds\":{\"all\":100},\"wind\":{\"speed\":1.78,\"deg\":352,\"gust\":1.72},\"visibility\":10000,\"pop\":0,\"sys\":{\"pod\":\"d\"},\"dt_txt\":\"2024-04-17 09:00:00\"},{\"dt\":1713355200,\"main\":{\"temp\":286.62,\"feels_like\":285.28,\"temp_min\":286.62,\"temp_max\":286.62,\"pressure\":1004,\"sea_level\":1004,\"grnd_level\":937,\"humidity\":48,\"temp_kf\":0},\"weather\":[{\"id\":500,\"main\":\"Rain\",\"description\":\"light rain\",\"icon\":\"10d\"}],\"clouds\":{\"all\":83},\"wind\":{\"speed\":3.7,\"deg\":358,\"gust\":4.14},\"visibility\":10000,\"pop\":0.26,\"rain\":{\"3h\":0.34},\"sys\":{\"pod\":\"d\"},\"dt_txt\":\"2024-04-17 12:00:00\"},{\"dt\":1713366000,\"main\":{\"temp\":287.1,\"feels_like\":285.7,\"temp_min\":287.1,\"temp_max\":287.1,\"pressure\":1003,\"sea_level\":1003,\"grnd_level\":936,\"humidity\":44,\"temp_kf\":0},\"weather\":[{\"id\":500,\"main\":\"Rain\",\"description\":\"light rain\",\"icon\":\"10d\"}],\"clouds\":{\"all\":14},\"wind\":{\"speed\":2.64,\"deg\":329,\"gust\":3.72},\"visibility\":10000,\"pop\":0.58,\"rain\":{\"3h\":0.38},\"sys\":{\"pod\":\"d\"},\"dt_txt\":\"2024-04-17 15:00:00\"},{\"dt\":1713376800,\"main\":{\"temp\":281.31,\"feels_like\":281.31,\"temp_min\":281.31,\"temp_max\":281.31,\"pressure\":1005,\"sea_level\":1005,\"grnd_level\":937,\"humidity\":70,\"temp_kf\":0},\"weather\":[{\"id\":500,\"main\":\"Rain\",\"description\":\"light rain\",\"icon\":\"10d\"}],\"clouds\":{\"all\":25},\"wind\":{\"speed\":1.12,\"deg\":187,\"gust\":1.34},\"visibility\":10000,\"pop\":0.67,\"rain\":{\"3h\":0.61},\"sys\":{\"pod\":\"d\"},\"dt_txt\":\"2024-04-17 18:00:00\"},{\"dt\":1713387600,\"main\":{\"temp\":279.29,\"feels_like\":276.9,\"temp_min\":279.29,\"temp_max\":279.29,\"pressure\":1006,\"sea_level\":1006,\"grnd_level\":938,\"humidity\":79,\"temp_kf\":0},\"weather\":[{\"id\":500,\"main\":\"Rain\",\"description\":\"light rain\",\"icon\":\"10n\"}],\"clouds\":{\"all\":17},\"wind\":{\"speed\":3.18,\"deg\":208,\"gust\":2.33},\"visibility\":10000,\"pop\":0.66,\"rain\":{\"3h\":0.47},\"sys\":{\"pod\":\"n\"},\"dt_txt\":\"2024-04-17 21:00:00\"},{\"dt\":1713398400,\"main\":{\"temp\":278.47,\"feels_like\":278.47,\"temp_min\":278.47,\"temp_max\":278.47,\"pressure\":1007,\"sea_level\":1007,\"grnd_level\":939,\"humidity\":86,\"temp_kf\":0},\"weather\":[{\"id\":500,\"main\":\"Rain\",\"description\":\"light rain\",\"icon\":\"10n\"}],\"clouds\":{\"all\":59},\"wind\":{\"speed\":0.36,\"deg\":281,\"gust\":0.28},\"visibility\":10000,\"pop\":0.79,\"rain\":{\"3h\":0.63},\"sys\":{\"pod\":\"n\"},\"dt_txt\":\"2024-04-18 00:00:00\"},{\"dt\":1713409200,\"main\":{\"temp\":278.46,\"feels_like\":276.79,\"temp_min\":278.46,\"temp_max\":278.46,\"pressure\":1007,\"sea_level\":1007,\"grnd_level\":939,\"humidity\":94,\"temp_kf\":0},\"weather\":[{\"id\":500,\"main\":\"Rain\",\"description\":\"light rain\",\"icon\":\"10n\"}],\"clouds\":{\"all\":100},\"wind\":{\"speed\":2.09,\"deg\":214,\"gust\":1.17},\"visibility\":10000,\"pop\":1,\"rain\":{\"3h\":0.55},\"sys\":{\"pod\":\"n\"},\"dt_txt\":\"2024-04-18 03:00:00\"},{\"dt\":1713420000,\"main\":{\"temp\":279.32,\"feels_like\":279.32,\"temp_min\":279.32,\"temp_max\":279.32,\"pressure\":1008,\"sea_level\":1008,\"grnd_level\":940,\"humidity\":93,\"temp_kf\":0},\"weather\":[{\"id\":804,\"main\":\"Clouds\",\"description\":\"overcast clouds\",\"icon\":\"04d\"}],\"clouds\":{\"all\":100},\"wind\":{\"speed\":0.94,\"deg\":5,\"gust\":1.37},\"visibility\":10000,\"pop\":0.47,\"sys\":{\"pod\":\"d\"},\"dt_txt\":\"2024-04-18 06:00:00\"},{\"dt\":1713430800,\"main\":{\"temp\":281.9,\"feels_like\":280.33,\"temp_min\":281.9,\"temp_max\":281.9,\"pressure\":1009,\"sea_level\":1009,\"grnd_level\":941,\"humidity\":80,\"temp_kf\":0},\"weather\":[{\"id\":500,\"main\":\"Rain\",\"description\":\"light rain\",\"icon\":\"10d\"}],\"clouds\":{\"all\":100},\"wind\":{\"speed\":2.74,\"deg\":39,\"gust\":3.13},\"visibility\":10000,\"pop\":0.97,\"rain\":{\"3h\":0.56},\"sys\":{\"pod\":\"d\"},\"dt_txt\":\"2024-04-18 09:00:00\"},{\"dt\":1713441600,\"main\":{\"temp\":280.53,\"feels_like\":278.43,\"temp_min\":280.53,\"temp_max\":280.53,\"pressure\":1010,\"sea_level\":1010,\"grnd_level\":941,\"humidity\":90,\"temp_kf\":0},\"weather\":[{\"id\":500,\"main\":\"Rain\",\"description\":\"light rain\",\"icon\":\"10d\"}],\"clouds\":{\"all\":100},\"wind\":{\"speed\":3.13,\"deg\":46,\"gust\":3.83},\"visibility\":10000,\"pop\":0.97,\"rain\":{\"3h\":0.89},\"sys\":{\"pod\":\"d\"},\"dt_txt\":\"2024-04-18 12:00:00\"},{\"dt\":1713452400,\"main\":{\"temp\":280.89,\"feels_like\":278.66,\"temp_min\":280.89,\"temp_max\":280.89,\"pressure\":1009,\"sea_level\":1009,\"grnd_level\":941,\"humidity\":83,\"temp_kf\":0},\"weather\":[{\"id\":500,\"main\":\"Rain\",\"description\":\"light rain\",\"icon\":\"10d\"}],\"clouds\":{\"all\":100},\"wind\":{\"speed\":3.47,\"deg\":49,\"gust\":4.65},\"visibility\":10000,\"pop\":0.71,\"rain\":{\"3h\":0.41},\"sys\":{\"pod\":\"d\"},\"dt_txt\":\"2024-04-18 15:00:00\"},{\"dt\":1713463200,\"main\":{\"temp\":279.3,\"feels_like\":278.04,\"temp_min\":279.3,\"temp_max\":279.3,\"pressure\":1011,\"sea_level\":1011,\"grnd_level\":943,\"humidity\":89,\"temp_kf\":0},\"weather\":[{\"id\":500,\"main\":\"Rain\",\"description\":\"light rain\",\"icon\":\"10d\"}],\"clouds\":{\"all\":100},\"wind\":{\"speed\":1.82,\"deg\":360,\"gust\":4.08},\"visibility\":10000,\"pop\":0.26,\"rain\":{\"3h\":0.16},\"sys\":{\"pod\":\"d\"},\"dt_txt\":\"2024-04-18 18:00:00\"},{\"dt\":1713474000,\"main\":{\"temp\":278.34,\"feels_like\":277,\"temp_min\":278.34,\"temp_max\":278.34,\"pressure\":1014,\"sea_level\":1014,\"grnd_level\":945,\"humidity\":94,\"temp_kf\":0},\"weather\":[{\"id\":500,\"main\":\"Rain\",\"description\":\"light rain\",\"icon\":\"10n\"}],\"clouds\":{\"all\":100},\"wind\":{\"speed\":1.76,\"deg\":349,\"gust\":5.25},\"visibility\":10000,\"pop\":0.8,\"rain\":{\"3h\":0.44},\"sys\":{\"pod\":\"n\"},\"dt_txt\":\"2024-04-18 21:00:00\"},{\"dt\":1713484800,\"main\":{\"temp\":277.01,\"feels_like\":275.16,\"temp_min\":277.01,\"temp_max\":277.01,\"pressure\":1016,\"sea_level\":1016,\"grnd_level\":946,\"humidity\":99,\"temp_kf\":0},\"weather\":[{\"id\":500,\"main\":\"Rain\",\"description\":\"light rain\",\"icon\":\"10n\"}],\"clouds\":{\"all\":99},\"wind\":{\"speed\":2.03,\"deg\":326,\"gust\":3.92},\"visibility\":10000,\"pop\":0.95,\"rain\":{\"3h\":0.47},\"sys\":{\"pod\":\"n\"},\"dt_txt\":\"2024-04-19 00:00:00\"},{\"dt\":1713495600,\"main\":{\"temp\":276.7,\"feels_like\":275.03,\"temp_min\":276.7,\"temp_max\":276.7,\"pressure\":1017,\"sea_level\":1017,\"grnd_level\":947,\"humidity\":99,\"temp_kf\":0},\"weather\":[{\"id\":803,\"main\":\"Clouds\",\"description\":\"broken clouds\",\"icon\":\"04n\"}],\"clouds\":{\"all\":80},\"wind\":{\"speed\":1.82,\"deg\":292,\"gust\":3.07},\"visibility\":4640,\"pop\":0,\"sys\":{\"pod\":\"n\"},\"dt_txt\":\"2024-04-19 03:00:00\"},{\"dt\":1713506400,\"main\":{\"temp\":278.17,\"feels_like\":277.21,\"temp_min\":278.17,\"temp_max\":278.17,\"pressure\":1018,\"sea_level\":1018,\"grnd_level\":948,\"humidity\":93,\"temp_kf\":0},\"weather\":[{\"id\":803,\"main\":\"Clouds\",\"description\":\"broken clouds\",\"icon\":\"04d\"}],\"clouds\":{\"all\":65},\"wind\":{\"speed\":1.43,\"deg\":271,\"gust\":1.66},\"visibility\":8128,\"pop\":0,\"sys\":{\"pod\":\"d\"},\"dt_txt\":\"2024-04-19 06:00:00\"},{\"dt\":1713517200,\"main\":{\"temp\":283.71,\"feels_like\":282.41,\"temp_min\":283.71,\"temp_max\":283.71,\"pressure\":1017,\"sea_level\":1017,\"grnd_level\":949,\"humidity\":61,\"temp_kf\":0},\"weather\":[{\"id\":801,\"main\":\"Clouds\",\"description\":\"few clouds\",\"icon\":\"02d\"}],\"clouds\":{\"all\":14},\"wind\":{\"speed\":1.3,\"deg\":12,\"gust\":1.7},\"visibility\":10000,\"pop\":0,\"sys\":{\"pod\":\"d\"},\"dt_txt\":\"2024-04-19 09:00:00\"},{\"dt\":1713528000,\"main\":{\"temp\":287.3,\"feels_like\":285.79,\"temp_min\":287.3,\"temp_max\":287.3,\"pressure\":1014,\"sea_level\":1014,\"grnd_level\":947,\"humidity\":39,\"temp_kf\":0},\"weather\":[{\"id\":801,\"main\":\"Clouds\",\"description\":\"few clouds\",\"icon\":\"02d\"}],\"clouds\":{\"all\":18},\"wind\":{\"speed\":2.23,\"deg\":49,\"gust\":3.06},\"visibility\":10000,\"pop\":0,\"sys\":{\"pod\":\"d\"},\"dt_txt\":\"2024-04-19 12:00:00\"},{\"dt\":1713538800,\"main\":{\"temp\":286.24,\"feels_like\":284.86,\"temp_min\":286.24,\"temp_max\":286.24,\"pressure\":1011,\"sea_level\":1011,\"grnd_level\":944,\"humidity\":48,\"temp_kf\":0},\"weather\":[{\"id\":803,\"main\":\"Clouds\",\"description\":\"broken clouds\",\"icon\":\"04d\"}],\"clouds\":{\"all\":71},\"wind\":{\"speed\":1.12,\"deg\":169,\"gust\":2.9},\"visibility\":10000,\"pop\":0,\"sys\":{\"pod\":\"d\"},\"dt_txt\":\"2024-04-19 15:00:00\"},{\"dt\":1713549600,\"main\":{\"temp\":281.57,\"feels_like\":281.57,\"temp_min\":281.57,\"temp_max\":281.57,\"pressure\":1011,\"sea_level\":1011,\"grnd_level\":943,\"humidity\":66,\"temp_kf\":0},\"weather\":[{\"id\":803,\"main\":\"Clouds\",\"description\":\"broken clouds\",\"icon\":\"04d\"}],\"clouds\":{\"all\":79},\"wind\":{\"speed\":1.11,\"deg\":222,\"gust\":1.75},\"visibility\":10000,\"pop\":0,\"sys\":{\"pod\":\"d\"},\"dt_txt\":\"2024-04-19 18:00:00\"},{\"dt\":1713560400,\"main\":{\"temp\":278.78,\"feels_like\":276.22,\"temp_min\":278.78,\"temp_max\":278.78,\"pressure\":1012,\"sea_level\":1012,\"grnd_level\":943,\"humidity\":62,\"temp_kf\":0},\"weather\":[{\"id\":802,\"main\":\"Clouds\",\"description\":\"scattered clouds\",\"icon\":\"03n\"}],\"clouds\":{\"all\":48},\"wind\":{\"speed\":3.28,\"deg\":205,\"gust\":3.41},\"visibility\":10000,\"pop\":0,\"sys\":{\"pod\":\"n\"},\"dt_txt\":\"2024-04-19 21:00:00\"},{\"dt\":1713571200,\"main\":{\"temp\":278.02,\"feels_like\":275.1,\"temp_min\":278.02,\"temp_max\":278.02,\"pressure\":1010,\"sea_level\":1010,\"grnd_level\":941,\"humidity\":68,\"temp_kf\":0},\"weather\":[{\"id\":801,\"main\":\"Clouds\",\"description\":\"few clouds\",\"icon\":\"02n\"}],\"clouds\":{\"all\":23},\"wind\":{\"speed\":3.59,\"deg\":202,\"gust\":4.53},\"visibility\":10000,\"pop\":0,\"sys\":{\"pod\":\"n\"},\"dt_txt\":\"2024-04-20 00:00:00\"},{\"dt\":1713582000,\"main\":{\"temp\":277.63,\"feels_like\":275.42,\"temp_min\":277.63,\"temp_max\":277.63,\"pressure\":1010,\"sea_level\":1010,\"grnd_level\":941,\"humidity\":80,\"temp_kf\":0},\"weather\":[{\"id\":801,\"main\":\"Clouds\",\"description\":\"few clouds\",\"icon\":\"02n\"}],\"clouds\":{\"all\":11},\"wind\":{\"speed\":2.52,\"deg\":214,\"gust\":1.68},\"visibility\":10000,\"pop\":0,\"sys\":{\"pod\":\"n\"},\"dt_txt\":\"2024-04-20 03:00:00\"},{\"dt\":1713592800,\"main\":{\"temp\":280.66,\"feels_like\":280.66,\"temp_min\":280.66,\"temp_max\":280.66,\"pressure\":1010,\"sea_level\":1010,\"grnd_level\":942,\"humidity\":66,\"temp_kf\":0},\"weather\":[{\"id\":802,\"main\":\"Clouds\",\"description\":\"scattered clouds\",\"icon\":\"03d\"}],\"clouds\":{\"all\":45},\"wind\":{\"speed\":0.57,\"deg\":245,\"gust\":0.66},\"visibility\":10000,\"pop\":0,\"sys\":{\"pod\":\"d\"},\"dt_txt\":\"2024-04-20 06:00:00\"},{\"dt\":1713603600,\"main\":{\"temp\":283.35,\"feels_like\":282.02,\"temp_min\":283.35,\"temp_max\":283.35,\"pressure\":1011,\"sea_level\":1011,\"grnd_level\":943,\"humidity\":61,\"temp_kf\":0},\"weather\":[{\"id\":804,\"main\":\"Clouds\",\"description\":\"overcast clouds\",\"icon\":\"04d\"}],\"clouds\":{\"all\":99},\"wind\":{\"speed\":3.2,\"deg\":7,\"gust\":3.13},\"visibility\":10000,\"pop\":0,\"sys\":{\"pod\":\"d\"},\"dt_txt\":\"2024-04-20 09:00:00\"},{\"dt\":1713614400,\"main\":{\"temp\":283.7,\"feels_like\":282.82,\"temp_min\":283.7,\"temp_max\":283.7,\"pressure\":1011,\"sea_level\":1011,\"grnd_level\":943,\"humidity\":77,\"temp_kf\":0},\"weather\":[{\"id\":500,\"main\":\"Rain\",\"description\":\"light rain\",\"icon\":\"10d\"}],\"clouds\":{\"all\":84},\"wind\":{\"speed\":4.24,\"deg\":1,\"gust\":5.6},\"visibility\":4311,\"pop\":1,\"rain\":{\"3h\":2.52},\"sys\":{\"pod\":\"d\"},\"dt_txt\":\"2024-04-20 12:00:00\"},{\"dt\":1713625200,\"main\":{\"temp\":282.09,\"feels_like\":279.83,\"temp_min\":282.09,\"temp_max\":282.09,\"pressure\":1013,\"sea_level\":1013,\"grnd_level\":944,\"humidity\":80,\"temp_kf\":0},\"weather\":[{\"id\":501,\"main\":\"Rain\",\"description\":\"moderate rain\",\"icon\":\"10d\"}],\"clouds\":{\"all\":100},\"wind\":{\"speed\":4.05,\"deg\":71,\"gust\":5.99},\"visibility\":10000,\"pop\":1,\"rain\":{\"3h\":3.79},\"sys\":{\"pod\":\"d\"},\"dt_txt\":\"2024-04-20 15:00:00\"},{\"dt\":1713636000,\"main\":{\"temp\":279.28,\"feels_like\":277.73,\"temp_min\":279.28,\"temp_max\":279.28,\"pressure\":1015,\"sea_level\":1015,\"grnd_level\":946,\"humidity\":89,\"temp_kf\":0},\"weather\":[{\"id\":804,\"main\":\"Clouds\",\"description\":\"overcast clouds\",\"icon\":\"04d\"}],\"clouds\":{\"all\":100},\"wind\":{\"speed\":2.11,\"deg\":330,\"gust\":2.38},\"visibility\":10000,\"pop\":0.8,\"sys\":{\"pod\":\"d\"},\"dt_txt\":\"2024-04-20 18:00:00\"},{\"dt\":1713646800,\"main\":{\"temp\":277.55,\"feels_like\":276.15,\"temp_min\":277.55,\"temp_max\":277.55,\"pressure\":1017,\"sea_level\":1017,\"grnd_level\":947,\"humidity\":95,\"temp_kf\":0},\"weather\":[{\"id\":803,\"main\":\"Clouds\",\"description\":\"broken clouds\",\"icon\":\"04n\"}],\"clouds\":{\"all\":60},\"wind\":{\"speed\":1.71,\"deg\":299,\"gust\":1.62},\"visibility\":10000,\"pop\":0,\"sys\":{\"pod\":\"n\"},\"dt_txt\":\"2024-04-20 21:00:00\"},{\"dt\":1713657600,\"main\":{\"temp\":277.37,\"feels_like\":276.14,\"temp_min\":277.37,\"temp_max\":277.37,\"pressure\":1017,\"sea_level\":1017,\"grnd_level\":948,\"humidity\":95,\"temp_kf\":0},\"weather\":[{\"id\":500,\"main\":\"Rain\",\"description\":\"light rain\",\"icon\":\"10n\"}],\"clouds\":{\"all\":49},\"wind\":{\"speed\":1.55,\"deg\":303,\"gust\":1.75},\"visibility\":10000,\"pop\":0.2,\"rain\":{\"3h\":0.12},\"sys\":{\"pod\":\"n\"},\"dt_txt\":\"2024-04-21 00:00:00\"},{\"dt\":1713668400,\"main\":{\"temp\":277.03,\"feels_like\":275.82,\"temp_min\":277.03,\"temp_max\":277.03,\"pressure\":1017,\"sea_level\":1017,\"grnd_level\":948,\"humidity\":97,\"temp_kf\":0},\"weather\":[{\"id\":500,\"main\":\"Rain\",\"description\":\"light rain\",\"icon\":\"10n\"}],\"clouds\":{\"all\":77},\"wind\":{\"speed\":1.5,\"deg\":282,\"gust\":1.03},\"visibility\":10000,\"pop\":0.34,\"rain\":{\"3h\":0.16},\"sys\":{\"pod\":\"n\"},\"dt_txt\":\"2024-04-21 03:00:00\"},{\"dt\":1713679200,\"main\":{\"temp\":278.89,\"feels_like\":278.89,\"temp_min\":278.89,\"temp_max\":278.89,\"pressure\":1018,\"sea_level\":1018,\"grnd_level\":949,\"humidity\":89,\"temp_kf\":0},\"weather\":[{\"id\":500,\"main\":\"Rain\",\"description\":\"light rain\",\"icon\":\"10d\"}],\"clouds\":{\"all\":71},\"wind\":{\"speed\":0.87,\"deg\":316,\"gust\":2.33},\"visibility\":10000,\"pop\":0.48,\"rain\":{\"3h\":0.33},\"sys\":{\"pod\":\"d\"},\"dt_txt\":\"2024-04-21 06:00:00\"},{\"dt\":1713690000,\"main\":{\"temp\":280.55,\"feels_like\":278.99,\"temp_min\":280.55,\"temp_max\":280.55,\"pressure\":1018,\"sea_level\":1018,\"grnd_level\":949,\"humidity\":82,\"temp_kf\":0},\"weather\":[{\"id\":500,\"main\":\"Rain\",\"description\":\"light rain\",\"icon\":\"10d\"}],\"clouds\":{\"all\":97},\"wind\":{\"speed\":2.38,\"deg\":27,\"gust\":2.76},\"visibility\":4180,\"pop\":1,\"rain\":{\"3h\":2.04},\"sys\":{\"pod\":\"d\"},\"dt_txt\":\"2024-04-21 09:00:00\"},{\"dt\":1713700800,\"main\":{\"temp\":278.88,\"feels_like\":278.88,\"temp_min\":278.88,\"temp_max\":278.88,\"pressure\":1018,\"sea_level\":1018,\"grnd_level\":949,\"humidity\":92,\"temp_kf\":0},\"weather\":[{\"id\":501,\"main\":\"Rain\",\"description\":\"moderate rain\",\"icon\":\"10d\"}],\"clouds\":{\"all\":98},\"wind\":{\"speed\":0.53,\"deg\":147,\"gust\":2.99},\"visibility\":5877,\"pop\":1,\"rain\":{\"3h\":4.39},\"sys\":{\"pod\":\"d\"},\"dt_txt\":\"2024-04-21 12:00:00\"},{\"dt\":1713711600,\"main\":{\"temp\":280.66,\"feels_like\":279.41,\"temp_min\":280.66,\"temp_max\":280.66,\"pressure\":1017,\"sea_level\":1017,\"grnd_level\":948,\"humidity\":78,\"temp_kf\":0},\"weather\":[{\"id\":500,\"main\":\"Rain\",\"description\":\"light rain\",\"icon\":\"10d\"}],\"clouds\":{\"all\":100},\"wind\":{\"speed\":2.03,\"deg\":181,\"gust\":2.55},\"visibility\":10000,\"pop\":1,\"rain\":{\"3h\":1.93},\"sys\":{\"pod\":\"d\"},\"dt_txt\":\"2024-04-21 15:00:00\"},{\"dt\":1713722400,\"main\":{\"temp\":278.62,\"feels_like\":278.62,\"temp_min\":278.62,\"temp_max\":278.62,\"pressure\":1017,\"sea_level\":1017,\"grnd_level\":948,\"humidity\":82,\"temp_kf\":0},\"weather\":[{\"id\":500,\"main\":\"Rain\",\"description\":\"light rain\",\"icon\":\"10d\"}],\"clouds\":{\"all\":99},\"wind\":{\"speed\":0.74,\"deg\":117,\"gust\":1},\"visibility\":10000,\"pop\":0.98,\"rain\":{\"3h\":0.29},\"sys\":{\"pod\":\"d\"},\"dt_txt\":\"2024-04-21 18:00:00\"},{\"dt\":1713733200,\"main\":{\"temp\":277.05,\"feels_like\":274.84,\"temp_min\":277.05,\"temp_max\":277.05,\"pressure\":1019,\"sea_level\":1019,\"grnd_level\":949,\"humidity\":79,\"temp_kf\":0},\"weather\":[{\"id\":804,\"main\":\"Clouds\",\"description\":\"overcast clouds\",\"icon\":\"04n\"}],\"clouds\":{\"all\":100},\"wind\":{\"speed\":2.4,\"deg\":167,\"gust\":2.85},\"visibility\":10000,\"pop\":0,\"sys\":{\"pod\":\"n\"},\"dt_txt\":\"2024-04-21 21:00:00\"},{\"dt\":1713744000,\"main\":{\"temp\":275.76,\"feels_like\":273.75,\"temp_min\":275.76,\"temp_max\":275.76,\"pressure\":1019,\"sea_level\":1019,\"grnd_level\":949,\"humidity\":82,\"temp_kf\":0},\"weather\":[{\"id\":804,\"main\":\"Clouds\",\"description\":\"overcast clouds\",\"icon\":\"04n\"}],\"clouds\":{\"all\":93},\"wind\":{\"speed\":1.99,\"deg\":193,\"gust\":1.05},\"visibility\":10000,\"pop\":0,\"sys\":{\"pod\":\"n\"},\"dt_txt\":\"2024-04-22 00:00:00\"},{\"dt\":1713754800,\"main\":{\"temp\":275.4,\"feels_like\":273.38,\"temp_min\":275.4,\"temp_max\":275.4,\"pressure\":1018,\"sea_level\":1018,\"grnd_level\":948,\"humidity\":80,\"temp_kf\":0},\"weather\":[{\"id\":803,\"main\":\"Clouds\",\"description\":\"broken clouds\",\"icon\":\"04n\"}],\"clouds\":{\"all\":65},\"wind\":{\"speed\":1.94,\"deg\":198,\"gust\":0.98},\"visibility\":10000,\"pop\":0,\"sys\":{\"pod\":\"n\"},\"dt_txt\":\"2024-04-22 03:00:00\"}],\"city\":{\"id\":3163858,\"name\":\"Zocca\",\"coord\":{\"lat\":44.34,\"lon\":10.99},\"country\":\"IT\",\"population\":4593,\"timezone\":7200,\"sunrise\":1713328096,\"sunset\":1713376942}}\n"
          ]
        }
      ]
    },
    {
      "cell_type": "code",
      "source": [
        "json_data = json.loads(data)\n",
        "print(json_data)"
      ],
      "metadata": {
        "colab": {
          "base_uri": "https://localhost:8080/"
        },
        "id": "U9hKRbhPHWPN",
        "outputId": "f590a04d-8b61-443b-cbec-f8b6c6e7ae86"
      },
      "execution_count": 4,
      "outputs": [
        {
          "output_type": "stream",
          "name": "stdout",
          "text": [
            "{'cod': '200', 'message': 0, 'cnt': 40, 'list': [{'dt': 1713333600, 'main': {'temp': 278.58, 'feels_like': 278.58, 'temp_min': 278.58, 'temp_max': 279.99, 'pressure': 1006, 'sea_level': 1006, 'grnd_level': 938, 'humidity': 87, 'temp_kf': -1.41}, 'weather': [{'id': 804, 'main': 'Clouds', 'description': 'overcast clouds', 'icon': '04d'}], 'clouds': {'all': 97}, 'wind': {'speed': 1.15, 'deg': 306, 'gust': 1.8}, 'visibility': 10000, 'pop': 0, 'sys': {'pod': 'd'}, 'dt_txt': '2024-04-17 06:00:00'}, {'dt': 1713344400, 'main': {'temp': 281.51, 'feels_like': 280.64, 'temp_min': 281.51, 'temp_max': 283.33, 'pressure': 1006, 'sea_level': 1006, 'grnd_level': 938, 'humidity': 73, 'temp_kf': -1.82}, 'weather': [{'id': 804, 'main': 'Clouds', 'description': 'overcast clouds', 'icon': '04d'}], 'clouds': {'all': 100}, 'wind': {'speed': 1.78, 'deg': 352, 'gust': 1.72}, 'visibility': 10000, 'pop': 0, 'sys': {'pod': 'd'}, 'dt_txt': '2024-04-17 09:00:00'}, {'dt': 1713355200, 'main': {'temp': 286.62, 'feels_like': 285.28, 'temp_min': 286.62, 'temp_max': 286.62, 'pressure': 1004, 'sea_level': 1004, 'grnd_level': 937, 'humidity': 48, 'temp_kf': 0}, 'weather': [{'id': 500, 'main': 'Rain', 'description': 'light rain', 'icon': '10d'}], 'clouds': {'all': 83}, 'wind': {'speed': 3.7, 'deg': 358, 'gust': 4.14}, 'visibility': 10000, 'pop': 0.26, 'rain': {'3h': 0.34}, 'sys': {'pod': 'd'}, 'dt_txt': '2024-04-17 12:00:00'}, {'dt': 1713366000, 'main': {'temp': 287.1, 'feels_like': 285.7, 'temp_min': 287.1, 'temp_max': 287.1, 'pressure': 1003, 'sea_level': 1003, 'grnd_level': 936, 'humidity': 44, 'temp_kf': 0}, 'weather': [{'id': 500, 'main': 'Rain', 'description': 'light rain', 'icon': '10d'}], 'clouds': {'all': 14}, 'wind': {'speed': 2.64, 'deg': 329, 'gust': 3.72}, 'visibility': 10000, 'pop': 0.58, 'rain': {'3h': 0.38}, 'sys': {'pod': 'd'}, 'dt_txt': '2024-04-17 15:00:00'}, {'dt': 1713376800, 'main': {'temp': 281.31, 'feels_like': 281.31, 'temp_min': 281.31, 'temp_max': 281.31, 'pressure': 1005, 'sea_level': 1005, 'grnd_level': 937, 'humidity': 70, 'temp_kf': 0}, 'weather': [{'id': 500, 'main': 'Rain', 'description': 'light rain', 'icon': '10d'}], 'clouds': {'all': 25}, 'wind': {'speed': 1.12, 'deg': 187, 'gust': 1.34}, 'visibility': 10000, 'pop': 0.67, 'rain': {'3h': 0.61}, 'sys': {'pod': 'd'}, 'dt_txt': '2024-04-17 18:00:00'}, {'dt': 1713387600, 'main': {'temp': 279.29, 'feels_like': 276.9, 'temp_min': 279.29, 'temp_max': 279.29, 'pressure': 1006, 'sea_level': 1006, 'grnd_level': 938, 'humidity': 79, 'temp_kf': 0}, 'weather': [{'id': 500, 'main': 'Rain', 'description': 'light rain', 'icon': '10n'}], 'clouds': {'all': 17}, 'wind': {'speed': 3.18, 'deg': 208, 'gust': 2.33}, 'visibility': 10000, 'pop': 0.66, 'rain': {'3h': 0.47}, 'sys': {'pod': 'n'}, 'dt_txt': '2024-04-17 21:00:00'}, {'dt': 1713398400, 'main': {'temp': 278.47, 'feels_like': 278.47, 'temp_min': 278.47, 'temp_max': 278.47, 'pressure': 1007, 'sea_level': 1007, 'grnd_level': 939, 'humidity': 86, 'temp_kf': 0}, 'weather': [{'id': 500, 'main': 'Rain', 'description': 'light rain', 'icon': '10n'}], 'clouds': {'all': 59}, 'wind': {'speed': 0.36, 'deg': 281, 'gust': 0.28}, 'visibility': 10000, 'pop': 0.79, 'rain': {'3h': 0.63}, 'sys': {'pod': 'n'}, 'dt_txt': '2024-04-18 00:00:00'}, {'dt': 1713409200, 'main': {'temp': 278.46, 'feels_like': 276.79, 'temp_min': 278.46, 'temp_max': 278.46, 'pressure': 1007, 'sea_level': 1007, 'grnd_level': 939, 'humidity': 94, 'temp_kf': 0}, 'weather': [{'id': 500, 'main': 'Rain', 'description': 'light rain', 'icon': '10n'}], 'clouds': {'all': 100}, 'wind': {'speed': 2.09, 'deg': 214, 'gust': 1.17}, 'visibility': 10000, 'pop': 1, 'rain': {'3h': 0.55}, 'sys': {'pod': 'n'}, 'dt_txt': '2024-04-18 03:00:00'}, {'dt': 1713420000, 'main': {'temp': 279.32, 'feels_like': 279.32, 'temp_min': 279.32, 'temp_max': 279.32, 'pressure': 1008, 'sea_level': 1008, 'grnd_level': 940, 'humidity': 93, 'temp_kf': 0}, 'weather': [{'id': 804, 'main': 'Clouds', 'description': 'overcast clouds', 'icon': '04d'}], 'clouds': {'all': 100}, 'wind': {'speed': 0.94, 'deg': 5, 'gust': 1.37}, 'visibility': 10000, 'pop': 0.47, 'sys': {'pod': 'd'}, 'dt_txt': '2024-04-18 06:00:00'}, {'dt': 1713430800, 'main': {'temp': 281.9, 'feels_like': 280.33, 'temp_min': 281.9, 'temp_max': 281.9, 'pressure': 1009, 'sea_level': 1009, 'grnd_level': 941, 'humidity': 80, 'temp_kf': 0}, 'weather': [{'id': 500, 'main': 'Rain', 'description': 'light rain', 'icon': '10d'}], 'clouds': {'all': 100}, 'wind': {'speed': 2.74, 'deg': 39, 'gust': 3.13}, 'visibility': 10000, 'pop': 0.97, 'rain': {'3h': 0.56}, 'sys': {'pod': 'd'}, 'dt_txt': '2024-04-18 09:00:00'}, {'dt': 1713441600, 'main': {'temp': 280.53, 'feels_like': 278.43, 'temp_min': 280.53, 'temp_max': 280.53, 'pressure': 1010, 'sea_level': 1010, 'grnd_level': 941, 'humidity': 90, 'temp_kf': 0}, 'weather': [{'id': 500, 'main': 'Rain', 'description': 'light rain', 'icon': '10d'}], 'clouds': {'all': 100}, 'wind': {'speed': 3.13, 'deg': 46, 'gust': 3.83}, 'visibility': 10000, 'pop': 0.97, 'rain': {'3h': 0.89}, 'sys': {'pod': 'd'}, 'dt_txt': '2024-04-18 12:00:00'}, {'dt': 1713452400, 'main': {'temp': 280.89, 'feels_like': 278.66, 'temp_min': 280.89, 'temp_max': 280.89, 'pressure': 1009, 'sea_level': 1009, 'grnd_level': 941, 'humidity': 83, 'temp_kf': 0}, 'weather': [{'id': 500, 'main': 'Rain', 'description': 'light rain', 'icon': '10d'}], 'clouds': {'all': 100}, 'wind': {'speed': 3.47, 'deg': 49, 'gust': 4.65}, 'visibility': 10000, 'pop': 0.71, 'rain': {'3h': 0.41}, 'sys': {'pod': 'd'}, 'dt_txt': '2024-04-18 15:00:00'}, {'dt': 1713463200, 'main': {'temp': 279.3, 'feels_like': 278.04, 'temp_min': 279.3, 'temp_max': 279.3, 'pressure': 1011, 'sea_level': 1011, 'grnd_level': 943, 'humidity': 89, 'temp_kf': 0}, 'weather': [{'id': 500, 'main': 'Rain', 'description': 'light rain', 'icon': '10d'}], 'clouds': {'all': 100}, 'wind': {'speed': 1.82, 'deg': 360, 'gust': 4.08}, 'visibility': 10000, 'pop': 0.26, 'rain': {'3h': 0.16}, 'sys': {'pod': 'd'}, 'dt_txt': '2024-04-18 18:00:00'}, {'dt': 1713474000, 'main': {'temp': 278.34, 'feels_like': 277, 'temp_min': 278.34, 'temp_max': 278.34, 'pressure': 1014, 'sea_level': 1014, 'grnd_level': 945, 'humidity': 94, 'temp_kf': 0}, 'weather': [{'id': 500, 'main': 'Rain', 'description': 'light rain', 'icon': '10n'}], 'clouds': {'all': 100}, 'wind': {'speed': 1.76, 'deg': 349, 'gust': 5.25}, 'visibility': 10000, 'pop': 0.8, 'rain': {'3h': 0.44}, 'sys': {'pod': 'n'}, 'dt_txt': '2024-04-18 21:00:00'}, {'dt': 1713484800, 'main': {'temp': 277.01, 'feels_like': 275.16, 'temp_min': 277.01, 'temp_max': 277.01, 'pressure': 1016, 'sea_level': 1016, 'grnd_level': 946, 'humidity': 99, 'temp_kf': 0}, 'weather': [{'id': 500, 'main': 'Rain', 'description': 'light rain', 'icon': '10n'}], 'clouds': {'all': 99}, 'wind': {'speed': 2.03, 'deg': 326, 'gust': 3.92}, 'visibility': 10000, 'pop': 0.95, 'rain': {'3h': 0.47}, 'sys': {'pod': 'n'}, 'dt_txt': '2024-04-19 00:00:00'}, {'dt': 1713495600, 'main': {'temp': 276.7, 'feels_like': 275.03, 'temp_min': 276.7, 'temp_max': 276.7, 'pressure': 1017, 'sea_level': 1017, 'grnd_level': 947, 'humidity': 99, 'temp_kf': 0}, 'weather': [{'id': 803, 'main': 'Clouds', 'description': 'broken clouds', 'icon': '04n'}], 'clouds': {'all': 80}, 'wind': {'speed': 1.82, 'deg': 292, 'gust': 3.07}, 'visibility': 4640, 'pop': 0, 'sys': {'pod': 'n'}, 'dt_txt': '2024-04-19 03:00:00'}, {'dt': 1713506400, 'main': {'temp': 278.17, 'feels_like': 277.21, 'temp_min': 278.17, 'temp_max': 278.17, 'pressure': 1018, 'sea_level': 1018, 'grnd_level': 948, 'humidity': 93, 'temp_kf': 0}, 'weather': [{'id': 803, 'main': 'Clouds', 'description': 'broken clouds', 'icon': '04d'}], 'clouds': {'all': 65}, 'wind': {'speed': 1.43, 'deg': 271, 'gust': 1.66}, 'visibility': 8128, 'pop': 0, 'sys': {'pod': 'd'}, 'dt_txt': '2024-04-19 06:00:00'}, {'dt': 1713517200, 'main': {'temp': 283.71, 'feels_like': 282.41, 'temp_min': 283.71, 'temp_max': 283.71, 'pressure': 1017, 'sea_level': 1017, 'grnd_level': 949, 'humidity': 61, 'temp_kf': 0}, 'weather': [{'id': 801, 'main': 'Clouds', 'description': 'few clouds', 'icon': '02d'}], 'clouds': {'all': 14}, 'wind': {'speed': 1.3, 'deg': 12, 'gust': 1.7}, 'visibility': 10000, 'pop': 0, 'sys': {'pod': 'd'}, 'dt_txt': '2024-04-19 09:00:00'}, {'dt': 1713528000, 'main': {'temp': 287.3, 'feels_like': 285.79, 'temp_min': 287.3, 'temp_max': 287.3, 'pressure': 1014, 'sea_level': 1014, 'grnd_level': 947, 'humidity': 39, 'temp_kf': 0}, 'weather': [{'id': 801, 'main': 'Clouds', 'description': 'few clouds', 'icon': '02d'}], 'clouds': {'all': 18}, 'wind': {'speed': 2.23, 'deg': 49, 'gust': 3.06}, 'visibility': 10000, 'pop': 0, 'sys': {'pod': 'd'}, 'dt_txt': '2024-04-19 12:00:00'}, {'dt': 1713538800, 'main': {'temp': 286.24, 'feels_like': 284.86, 'temp_min': 286.24, 'temp_max': 286.24, 'pressure': 1011, 'sea_level': 1011, 'grnd_level': 944, 'humidity': 48, 'temp_kf': 0}, 'weather': [{'id': 803, 'main': 'Clouds', 'description': 'broken clouds', 'icon': '04d'}], 'clouds': {'all': 71}, 'wind': {'speed': 1.12, 'deg': 169, 'gust': 2.9}, 'visibility': 10000, 'pop': 0, 'sys': {'pod': 'd'}, 'dt_txt': '2024-04-19 15:00:00'}, {'dt': 1713549600, 'main': {'temp': 281.57, 'feels_like': 281.57, 'temp_min': 281.57, 'temp_max': 281.57, 'pressure': 1011, 'sea_level': 1011, 'grnd_level': 943, 'humidity': 66, 'temp_kf': 0}, 'weather': [{'id': 803, 'main': 'Clouds', 'description': 'broken clouds', 'icon': '04d'}], 'clouds': {'all': 79}, 'wind': {'speed': 1.11, 'deg': 222, 'gust': 1.75}, 'visibility': 10000, 'pop': 0, 'sys': {'pod': 'd'}, 'dt_txt': '2024-04-19 18:00:00'}, {'dt': 1713560400, 'main': {'temp': 278.78, 'feels_like': 276.22, 'temp_min': 278.78, 'temp_max': 278.78, 'pressure': 1012, 'sea_level': 1012, 'grnd_level': 943, 'humidity': 62, 'temp_kf': 0}, 'weather': [{'id': 802, 'main': 'Clouds', 'description': 'scattered clouds', 'icon': '03n'}], 'clouds': {'all': 48}, 'wind': {'speed': 3.28, 'deg': 205, 'gust': 3.41}, 'visibility': 10000, 'pop': 0, 'sys': {'pod': 'n'}, 'dt_txt': '2024-04-19 21:00:00'}, {'dt': 1713571200, 'main': {'temp': 278.02, 'feels_like': 275.1, 'temp_min': 278.02, 'temp_max': 278.02, 'pressure': 1010, 'sea_level': 1010, 'grnd_level': 941, 'humidity': 68, 'temp_kf': 0}, 'weather': [{'id': 801, 'main': 'Clouds', 'description': 'few clouds', 'icon': '02n'}], 'clouds': {'all': 23}, 'wind': {'speed': 3.59, 'deg': 202, 'gust': 4.53}, 'visibility': 10000, 'pop': 0, 'sys': {'pod': 'n'}, 'dt_txt': '2024-04-20 00:00:00'}, {'dt': 1713582000, 'main': {'temp': 277.63, 'feels_like': 275.42, 'temp_min': 277.63, 'temp_max': 277.63, 'pressure': 1010, 'sea_level': 1010, 'grnd_level': 941, 'humidity': 80, 'temp_kf': 0}, 'weather': [{'id': 801, 'main': 'Clouds', 'description': 'few clouds', 'icon': '02n'}], 'clouds': {'all': 11}, 'wind': {'speed': 2.52, 'deg': 214, 'gust': 1.68}, 'visibility': 10000, 'pop': 0, 'sys': {'pod': 'n'}, 'dt_txt': '2024-04-20 03:00:00'}, {'dt': 1713592800, 'main': {'temp': 280.66, 'feels_like': 280.66, 'temp_min': 280.66, 'temp_max': 280.66, 'pressure': 1010, 'sea_level': 1010, 'grnd_level': 942, 'humidity': 66, 'temp_kf': 0}, 'weather': [{'id': 802, 'main': 'Clouds', 'description': 'scattered clouds', 'icon': '03d'}], 'clouds': {'all': 45}, 'wind': {'speed': 0.57, 'deg': 245, 'gust': 0.66}, 'visibility': 10000, 'pop': 0, 'sys': {'pod': 'd'}, 'dt_txt': '2024-04-20 06:00:00'}, {'dt': 1713603600, 'main': {'temp': 283.35, 'feels_like': 282.02, 'temp_min': 283.35, 'temp_max': 283.35, 'pressure': 1011, 'sea_level': 1011, 'grnd_level': 943, 'humidity': 61, 'temp_kf': 0}, 'weather': [{'id': 804, 'main': 'Clouds', 'description': 'overcast clouds', 'icon': '04d'}], 'clouds': {'all': 99}, 'wind': {'speed': 3.2, 'deg': 7, 'gust': 3.13}, 'visibility': 10000, 'pop': 0, 'sys': {'pod': 'd'}, 'dt_txt': '2024-04-20 09:00:00'}, {'dt': 1713614400, 'main': {'temp': 283.7, 'feels_like': 282.82, 'temp_min': 283.7, 'temp_max': 283.7, 'pressure': 1011, 'sea_level': 1011, 'grnd_level': 943, 'humidity': 77, 'temp_kf': 0}, 'weather': [{'id': 500, 'main': 'Rain', 'description': 'light rain', 'icon': '10d'}], 'clouds': {'all': 84}, 'wind': {'speed': 4.24, 'deg': 1, 'gust': 5.6}, 'visibility': 4311, 'pop': 1, 'rain': {'3h': 2.52}, 'sys': {'pod': 'd'}, 'dt_txt': '2024-04-20 12:00:00'}, {'dt': 1713625200, 'main': {'temp': 282.09, 'feels_like': 279.83, 'temp_min': 282.09, 'temp_max': 282.09, 'pressure': 1013, 'sea_level': 1013, 'grnd_level': 944, 'humidity': 80, 'temp_kf': 0}, 'weather': [{'id': 501, 'main': 'Rain', 'description': 'moderate rain', 'icon': '10d'}], 'clouds': {'all': 100}, 'wind': {'speed': 4.05, 'deg': 71, 'gust': 5.99}, 'visibility': 10000, 'pop': 1, 'rain': {'3h': 3.79}, 'sys': {'pod': 'd'}, 'dt_txt': '2024-04-20 15:00:00'}, {'dt': 1713636000, 'main': {'temp': 279.28, 'feels_like': 277.73, 'temp_min': 279.28, 'temp_max': 279.28, 'pressure': 1015, 'sea_level': 1015, 'grnd_level': 946, 'humidity': 89, 'temp_kf': 0}, 'weather': [{'id': 804, 'main': 'Clouds', 'description': 'overcast clouds', 'icon': '04d'}], 'clouds': {'all': 100}, 'wind': {'speed': 2.11, 'deg': 330, 'gust': 2.38}, 'visibility': 10000, 'pop': 0.8, 'sys': {'pod': 'd'}, 'dt_txt': '2024-04-20 18:00:00'}, {'dt': 1713646800, 'main': {'temp': 277.55, 'feels_like': 276.15, 'temp_min': 277.55, 'temp_max': 277.55, 'pressure': 1017, 'sea_level': 1017, 'grnd_level': 947, 'humidity': 95, 'temp_kf': 0}, 'weather': [{'id': 803, 'main': 'Clouds', 'description': 'broken clouds', 'icon': '04n'}], 'clouds': {'all': 60}, 'wind': {'speed': 1.71, 'deg': 299, 'gust': 1.62}, 'visibility': 10000, 'pop': 0, 'sys': {'pod': 'n'}, 'dt_txt': '2024-04-20 21:00:00'}, {'dt': 1713657600, 'main': {'temp': 277.37, 'feels_like': 276.14, 'temp_min': 277.37, 'temp_max': 277.37, 'pressure': 1017, 'sea_level': 1017, 'grnd_level': 948, 'humidity': 95, 'temp_kf': 0}, 'weather': [{'id': 500, 'main': 'Rain', 'description': 'light rain', 'icon': '10n'}], 'clouds': {'all': 49}, 'wind': {'speed': 1.55, 'deg': 303, 'gust': 1.75}, 'visibility': 10000, 'pop': 0.2, 'rain': {'3h': 0.12}, 'sys': {'pod': 'n'}, 'dt_txt': '2024-04-21 00:00:00'}, {'dt': 1713668400, 'main': {'temp': 277.03, 'feels_like': 275.82, 'temp_min': 277.03, 'temp_max': 277.03, 'pressure': 1017, 'sea_level': 1017, 'grnd_level': 948, 'humidity': 97, 'temp_kf': 0}, 'weather': [{'id': 500, 'main': 'Rain', 'description': 'light rain', 'icon': '10n'}], 'clouds': {'all': 77}, 'wind': {'speed': 1.5, 'deg': 282, 'gust': 1.03}, 'visibility': 10000, 'pop': 0.34, 'rain': {'3h': 0.16}, 'sys': {'pod': 'n'}, 'dt_txt': '2024-04-21 03:00:00'}, {'dt': 1713679200, 'main': {'temp': 278.89, 'feels_like': 278.89, 'temp_min': 278.89, 'temp_max': 278.89, 'pressure': 1018, 'sea_level': 1018, 'grnd_level': 949, 'humidity': 89, 'temp_kf': 0}, 'weather': [{'id': 500, 'main': 'Rain', 'description': 'light rain', 'icon': '10d'}], 'clouds': {'all': 71}, 'wind': {'speed': 0.87, 'deg': 316, 'gust': 2.33}, 'visibility': 10000, 'pop': 0.48, 'rain': {'3h': 0.33}, 'sys': {'pod': 'd'}, 'dt_txt': '2024-04-21 06:00:00'}, {'dt': 1713690000, 'main': {'temp': 280.55, 'feels_like': 278.99, 'temp_min': 280.55, 'temp_max': 280.55, 'pressure': 1018, 'sea_level': 1018, 'grnd_level': 949, 'humidity': 82, 'temp_kf': 0}, 'weather': [{'id': 500, 'main': 'Rain', 'description': 'light rain', 'icon': '10d'}], 'clouds': {'all': 97}, 'wind': {'speed': 2.38, 'deg': 27, 'gust': 2.76}, 'visibility': 4180, 'pop': 1, 'rain': {'3h': 2.04}, 'sys': {'pod': 'd'}, 'dt_txt': '2024-04-21 09:00:00'}, {'dt': 1713700800, 'main': {'temp': 278.88, 'feels_like': 278.88, 'temp_min': 278.88, 'temp_max': 278.88, 'pressure': 1018, 'sea_level': 1018, 'grnd_level': 949, 'humidity': 92, 'temp_kf': 0}, 'weather': [{'id': 501, 'main': 'Rain', 'description': 'moderate rain', 'icon': '10d'}], 'clouds': {'all': 98}, 'wind': {'speed': 0.53, 'deg': 147, 'gust': 2.99}, 'visibility': 5877, 'pop': 1, 'rain': {'3h': 4.39}, 'sys': {'pod': 'd'}, 'dt_txt': '2024-04-21 12:00:00'}, {'dt': 1713711600, 'main': {'temp': 280.66, 'feels_like': 279.41, 'temp_min': 280.66, 'temp_max': 280.66, 'pressure': 1017, 'sea_level': 1017, 'grnd_level': 948, 'humidity': 78, 'temp_kf': 0}, 'weather': [{'id': 500, 'main': 'Rain', 'description': 'light rain', 'icon': '10d'}], 'clouds': {'all': 100}, 'wind': {'speed': 2.03, 'deg': 181, 'gust': 2.55}, 'visibility': 10000, 'pop': 1, 'rain': {'3h': 1.93}, 'sys': {'pod': 'd'}, 'dt_txt': '2024-04-21 15:00:00'}, {'dt': 1713722400, 'main': {'temp': 278.62, 'feels_like': 278.62, 'temp_min': 278.62, 'temp_max': 278.62, 'pressure': 1017, 'sea_level': 1017, 'grnd_level': 948, 'humidity': 82, 'temp_kf': 0}, 'weather': [{'id': 500, 'main': 'Rain', 'description': 'light rain', 'icon': '10d'}], 'clouds': {'all': 99}, 'wind': {'speed': 0.74, 'deg': 117, 'gust': 1}, 'visibility': 10000, 'pop': 0.98, 'rain': {'3h': 0.29}, 'sys': {'pod': 'd'}, 'dt_txt': '2024-04-21 18:00:00'}, {'dt': 1713733200, 'main': {'temp': 277.05, 'feels_like': 274.84, 'temp_min': 277.05, 'temp_max': 277.05, 'pressure': 1019, 'sea_level': 1019, 'grnd_level': 949, 'humidity': 79, 'temp_kf': 0}, 'weather': [{'id': 804, 'main': 'Clouds', 'description': 'overcast clouds', 'icon': '04n'}], 'clouds': {'all': 100}, 'wind': {'speed': 2.4, 'deg': 167, 'gust': 2.85}, 'visibility': 10000, 'pop': 0, 'sys': {'pod': 'n'}, 'dt_txt': '2024-04-21 21:00:00'}, {'dt': 1713744000, 'main': {'temp': 275.76, 'feels_like': 273.75, 'temp_min': 275.76, 'temp_max': 275.76, 'pressure': 1019, 'sea_level': 1019, 'grnd_level': 949, 'humidity': 82, 'temp_kf': 0}, 'weather': [{'id': 804, 'main': 'Clouds', 'description': 'overcast clouds', 'icon': '04n'}], 'clouds': {'all': 93}, 'wind': {'speed': 1.99, 'deg': 193, 'gust': 1.05}, 'visibility': 10000, 'pop': 0, 'sys': {'pod': 'n'}, 'dt_txt': '2024-04-22 00:00:00'}, {'dt': 1713754800, 'main': {'temp': 275.4, 'feels_like': 273.38, 'temp_min': 275.4, 'temp_max': 275.4, 'pressure': 1018, 'sea_level': 1018, 'grnd_level': 948, 'humidity': 80, 'temp_kf': 0}, 'weather': [{'id': 803, 'main': 'Clouds', 'description': 'broken clouds', 'icon': '04n'}], 'clouds': {'all': 65}, 'wind': {'speed': 1.94, 'deg': 198, 'gust': 0.98}, 'visibility': 10000, 'pop': 0, 'sys': {'pod': 'n'}, 'dt_txt': '2024-04-22 03:00:00'}], 'city': {'id': 3163858, 'name': 'Zocca', 'coord': {'lat': 44.34, 'lon': 10.99}, 'country': 'IT', 'population': 4593, 'timezone': 7200, 'sunrise': 1713328096, 'sunset': 1713376942}}\n"
          ]
        }
      ]
    },
    {
      "cell_type": "code",
      "source": [
        "print(json_data[\"list\"][0])\n",
        "print(json_data[\"list\"][0][\"weather\"][0][\"main\"])"
      ],
      "metadata": {
        "colab": {
          "base_uri": "https://localhost:8080/"
        },
        "id": "2grn7z4pHYkk",
        "outputId": "eda4c50d-8b04-4478-bd3a-8a38f5575010"
      },
      "execution_count": 5,
      "outputs": [
        {
          "output_type": "stream",
          "name": "stdout",
          "text": [
            "{'dt': 1713333600, 'main': {'temp': 278.58, 'feels_like': 278.58, 'temp_min': 278.58, 'temp_max': 279.99, 'pressure': 1006, 'sea_level': 1006, 'grnd_level': 938, 'humidity': 87, 'temp_kf': -1.41}, 'weather': [{'id': 804, 'main': 'Clouds', 'description': 'overcast clouds', 'icon': '04d'}], 'clouds': {'all': 97}, 'wind': {'speed': 1.15, 'deg': 306, 'gust': 1.8}, 'visibility': 10000, 'pop': 0, 'sys': {'pod': 'd'}, 'dt_txt': '2024-04-17 06:00:00'}\n",
            "Clouds\n"
          ]
        }
      ]
    },
    {
      "cell_type": "code",
      "source": [
        "attributes = [[list[\"main\"][\"humidity\"], list[\"main\"][\"sea_level\"], list[\"main\"][\"temp\"], list[\"wind\"][\"speed\"], list[\"weather\"][0][\"main\"], list[\"dt_txt\"]] for list in json_data[\"list\"]]\n",
        "columns = ['humidity', 'sea_level', 'temp','wind_speed', \"weather\", \"date\"]\n",
        "weather_df = pd.DataFrame(attributes, columns=columns)\n"
      ],
      "metadata": {
        "id": "ju9foAHjHaf0"
      },
      "execution_count": 6,
      "outputs": []
    },
    {
      "cell_type": "code",
      "source": [
        "print(attributes)"
      ],
      "metadata": {
        "colab": {
          "base_uri": "https://localhost:8080/"
        },
        "id": "hHtMXRlzHcxs",
        "outputId": "ef74bee4-4c75-41de-9bb5-45471eb6c3d0"
      },
      "execution_count": 7,
      "outputs": [
        {
          "output_type": "stream",
          "name": "stdout",
          "text": [
            "[[87, 1006, 278.58, 1.15, 'Clouds', '2024-04-17 06:00:00'], [73, 1006, 281.51, 1.78, 'Clouds', '2024-04-17 09:00:00'], [48, 1004, 286.62, 3.7, 'Rain', '2024-04-17 12:00:00'], [44, 1003, 287.1, 2.64, 'Rain', '2024-04-17 15:00:00'], [70, 1005, 281.31, 1.12, 'Rain', '2024-04-17 18:00:00'], [79, 1006, 279.29, 3.18, 'Rain', '2024-04-17 21:00:00'], [86, 1007, 278.47, 0.36, 'Rain', '2024-04-18 00:00:00'], [94, 1007, 278.46, 2.09, 'Rain', '2024-04-18 03:00:00'], [93, 1008, 279.32, 0.94, 'Clouds', '2024-04-18 06:00:00'], [80, 1009, 281.9, 2.74, 'Rain', '2024-04-18 09:00:00'], [90, 1010, 280.53, 3.13, 'Rain', '2024-04-18 12:00:00'], [83, 1009, 280.89, 3.47, 'Rain', '2024-04-18 15:00:00'], [89, 1011, 279.3, 1.82, 'Rain', '2024-04-18 18:00:00'], [94, 1014, 278.34, 1.76, 'Rain', '2024-04-18 21:00:00'], [99, 1016, 277.01, 2.03, 'Rain', '2024-04-19 00:00:00'], [99, 1017, 276.7, 1.82, 'Clouds', '2024-04-19 03:00:00'], [93, 1018, 278.17, 1.43, 'Clouds', '2024-04-19 06:00:00'], [61, 1017, 283.71, 1.3, 'Clouds', '2024-04-19 09:00:00'], [39, 1014, 287.3, 2.23, 'Clouds', '2024-04-19 12:00:00'], [48, 1011, 286.24, 1.12, 'Clouds', '2024-04-19 15:00:00'], [66, 1011, 281.57, 1.11, 'Clouds', '2024-04-19 18:00:00'], [62, 1012, 278.78, 3.28, 'Clouds', '2024-04-19 21:00:00'], [68, 1010, 278.02, 3.59, 'Clouds', '2024-04-20 00:00:00'], [80, 1010, 277.63, 2.52, 'Clouds', '2024-04-20 03:00:00'], [66, 1010, 280.66, 0.57, 'Clouds', '2024-04-20 06:00:00'], [61, 1011, 283.35, 3.2, 'Clouds', '2024-04-20 09:00:00'], [77, 1011, 283.7, 4.24, 'Rain', '2024-04-20 12:00:00'], [80, 1013, 282.09, 4.05, 'Rain', '2024-04-20 15:00:00'], [89, 1015, 279.28, 2.11, 'Clouds', '2024-04-20 18:00:00'], [95, 1017, 277.55, 1.71, 'Clouds', '2024-04-20 21:00:00'], [95, 1017, 277.37, 1.55, 'Rain', '2024-04-21 00:00:00'], [97, 1017, 277.03, 1.5, 'Rain', '2024-04-21 03:00:00'], [89, 1018, 278.89, 0.87, 'Rain', '2024-04-21 06:00:00'], [82, 1018, 280.55, 2.38, 'Rain', '2024-04-21 09:00:00'], [92, 1018, 278.88, 0.53, 'Rain', '2024-04-21 12:00:00'], [78, 1017, 280.66, 2.03, 'Rain', '2024-04-21 15:00:00'], [82, 1017, 278.62, 0.74, 'Rain', '2024-04-21 18:00:00'], [79, 1019, 277.05, 2.4, 'Clouds', '2024-04-21 21:00:00'], [82, 1019, 275.76, 1.99, 'Clouds', '2024-04-22 00:00:00'], [80, 1018, 275.4, 1.94, 'Clouds', '2024-04-22 03:00:00']]\n"
          ]
        }
      ]
    },
    {
      "cell_type": "code",
      "source": [
        "weather_df.head(10)"
      ],
      "metadata": {
        "colab": {
          "base_uri": "https://localhost:8080/",
          "height": 363
        },
        "id": "peBMpbOxHe_J",
        "outputId": "92b4bb33-3a92-48c2-ef8d-e65742a8e051"
      },
      "execution_count": 8,
      "outputs": [
        {
          "output_type": "execute_result",
          "data": {
            "text/plain": [
              "   humidity  sea_level    temp  wind_speed weather                 date\n",
              "0        87       1006  278.58        1.15  Clouds  2024-04-17 06:00:00\n",
              "1        73       1006  281.51        1.78  Clouds  2024-04-17 09:00:00\n",
              "2        48       1004  286.62        3.70    Rain  2024-04-17 12:00:00\n",
              "3        44       1003  287.10        2.64    Rain  2024-04-17 15:00:00\n",
              "4        70       1005  281.31        1.12    Rain  2024-04-17 18:00:00\n",
              "5        79       1006  279.29        3.18    Rain  2024-04-17 21:00:00\n",
              "6        86       1007  278.47        0.36    Rain  2024-04-18 00:00:00\n",
              "7        94       1007  278.46        2.09    Rain  2024-04-18 03:00:00\n",
              "8        93       1008  279.32        0.94  Clouds  2024-04-18 06:00:00\n",
              "9        80       1009  281.90        2.74    Rain  2024-04-18 09:00:00"
            ],
            "text/html": [
              "\n",
              "  <div id=\"df-e55775b8-3f49-49a5-9386-8deadd7f0575\" class=\"colab-df-container\">\n",
              "    <div>\n",
              "<style scoped>\n",
              "    .dataframe tbody tr th:only-of-type {\n",
              "        vertical-align: middle;\n",
              "    }\n",
              "\n",
              "    .dataframe tbody tr th {\n",
              "        vertical-align: top;\n",
              "    }\n",
              "\n",
              "    .dataframe thead th {\n",
              "        text-align: right;\n",
              "    }\n",
              "</style>\n",
              "<table border=\"1\" class=\"dataframe\">\n",
              "  <thead>\n",
              "    <tr style=\"text-align: right;\">\n",
              "      <th></th>\n",
              "      <th>humidity</th>\n",
              "      <th>sea_level</th>\n",
              "      <th>temp</th>\n",
              "      <th>wind_speed</th>\n",
              "      <th>weather</th>\n",
              "      <th>date</th>\n",
              "    </tr>\n",
              "  </thead>\n",
              "  <tbody>\n",
              "    <tr>\n",
              "      <th>0</th>\n",
              "      <td>87</td>\n",
              "      <td>1006</td>\n",
              "      <td>278.58</td>\n",
              "      <td>1.15</td>\n",
              "      <td>Clouds</td>\n",
              "      <td>2024-04-17 06:00:00</td>\n",
              "    </tr>\n",
              "    <tr>\n",
              "      <th>1</th>\n",
              "      <td>73</td>\n",
              "      <td>1006</td>\n",
              "      <td>281.51</td>\n",
              "      <td>1.78</td>\n",
              "      <td>Clouds</td>\n",
              "      <td>2024-04-17 09:00:00</td>\n",
              "    </tr>\n",
              "    <tr>\n",
              "      <th>2</th>\n",
              "      <td>48</td>\n",
              "      <td>1004</td>\n",
              "      <td>286.62</td>\n",
              "      <td>3.70</td>\n",
              "      <td>Rain</td>\n",
              "      <td>2024-04-17 12:00:00</td>\n",
              "    </tr>\n",
              "    <tr>\n",
              "      <th>3</th>\n",
              "      <td>44</td>\n",
              "      <td>1003</td>\n",
              "      <td>287.10</td>\n",
              "      <td>2.64</td>\n",
              "      <td>Rain</td>\n",
              "      <td>2024-04-17 15:00:00</td>\n",
              "    </tr>\n",
              "    <tr>\n",
              "      <th>4</th>\n",
              "      <td>70</td>\n",
              "      <td>1005</td>\n",
              "      <td>281.31</td>\n",
              "      <td>1.12</td>\n",
              "      <td>Rain</td>\n",
              "      <td>2024-04-17 18:00:00</td>\n",
              "    </tr>\n",
              "    <tr>\n",
              "      <th>5</th>\n",
              "      <td>79</td>\n",
              "      <td>1006</td>\n",
              "      <td>279.29</td>\n",
              "      <td>3.18</td>\n",
              "      <td>Rain</td>\n",
              "      <td>2024-04-17 21:00:00</td>\n",
              "    </tr>\n",
              "    <tr>\n",
              "      <th>6</th>\n",
              "      <td>86</td>\n",
              "      <td>1007</td>\n",
              "      <td>278.47</td>\n",
              "      <td>0.36</td>\n",
              "      <td>Rain</td>\n",
              "      <td>2024-04-18 00:00:00</td>\n",
              "    </tr>\n",
              "    <tr>\n",
              "      <th>7</th>\n",
              "      <td>94</td>\n",
              "      <td>1007</td>\n",
              "      <td>278.46</td>\n",
              "      <td>2.09</td>\n",
              "      <td>Rain</td>\n",
              "      <td>2024-04-18 03:00:00</td>\n",
              "    </tr>\n",
              "    <tr>\n",
              "      <th>8</th>\n",
              "      <td>93</td>\n",
              "      <td>1008</td>\n",
              "      <td>279.32</td>\n",
              "      <td>0.94</td>\n",
              "      <td>Clouds</td>\n",
              "      <td>2024-04-18 06:00:00</td>\n",
              "    </tr>\n",
              "    <tr>\n",
              "      <th>9</th>\n",
              "      <td>80</td>\n",
              "      <td>1009</td>\n",
              "      <td>281.90</td>\n",
              "      <td>2.74</td>\n",
              "      <td>Rain</td>\n",
              "      <td>2024-04-18 09:00:00</td>\n",
              "    </tr>\n",
              "  </tbody>\n",
              "</table>\n",
              "</div>\n",
              "    <div class=\"colab-df-buttons\">\n",
              "\n",
              "  <div class=\"colab-df-container\">\n",
              "    <button class=\"colab-df-convert\" onclick=\"convertToInteractive('df-e55775b8-3f49-49a5-9386-8deadd7f0575')\"\n",
              "            title=\"Convert this dataframe to an interactive table.\"\n",
              "            style=\"display:none;\">\n",
              "\n",
              "  <svg xmlns=\"http://www.w3.org/2000/svg\" height=\"24px\" viewBox=\"0 -960 960 960\">\n",
              "    <path d=\"M120-120v-720h720v720H120Zm60-500h600v-160H180v160Zm220 220h160v-160H400v160Zm0 220h160v-160H400v160ZM180-400h160v-160H180v160Zm440 0h160v-160H620v160ZM180-180h160v-160H180v160Zm440 0h160v-160H620v160Z\"/>\n",
              "  </svg>\n",
              "    </button>\n",
              "\n",
              "  <style>\n",
              "    .colab-df-container {\n",
              "      display:flex;\n",
              "      gap: 12px;\n",
              "    }\n",
              "\n",
              "    .colab-df-convert {\n",
              "      background-color: #E8F0FE;\n",
              "      border: none;\n",
              "      border-radius: 50%;\n",
              "      cursor: pointer;\n",
              "      display: none;\n",
              "      fill: #1967D2;\n",
              "      height: 32px;\n",
              "      padding: 0 0 0 0;\n",
              "      width: 32px;\n",
              "    }\n",
              "\n",
              "    .colab-df-convert:hover {\n",
              "      background-color: #E2EBFA;\n",
              "      box-shadow: 0px 1px 2px rgba(60, 64, 67, 0.3), 0px 1px 3px 1px rgba(60, 64, 67, 0.15);\n",
              "      fill: #174EA6;\n",
              "    }\n",
              "\n",
              "    .colab-df-buttons div {\n",
              "      margin-bottom: 4px;\n",
              "    }\n",
              "\n",
              "    [theme=dark] .colab-df-convert {\n",
              "      background-color: #3B4455;\n",
              "      fill: #D2E3FC;\n",
              "    }\n",
              "\n",
              "    [theme=dark] .colab-df-convert:hover {\n",
              "      background-color: #434B5C;\n",
              "      box-shadow: 0px 1px 3px 1px rgba(0, 0, 0, 0.15);\n",
              "      filter: drop-shadow(0px 1px 2px rgba(0, 0, 0, 0.3));\n",
              "      fill: #FFFFFF;\n",
              "    }\n",
              "  </style>\n",
              "\n",
              "    <script>\n",
              "      const buttonEl =\n",
              "        document.querySelector('#df-e55775b8-3f49-49a5-9386-8deadd7f0575 button.colab-df-convert');\n",
              "      buttonEl.style.display =\n",
              "        google.colab.kernel.accessAllowed ? 'block' : 'none';\n",
              "\n",
              "      async function convertToInteractive(key) {\n",
              "        const element = document.querySelector('#df-e55775b8-3f49-49a5-9386-8deadd7f0575');\n",
              "        const dataTable =\n",
              "          await google.colab.kernel.invokeFunction('convertToInteractive',\n",
              "                                                    [key], {});\n",
              "        if (!dataTable) return;\n",
              "\n",
              "        const docLinkHtml = 'Like what you see? Visit the ' +\n",
              "          '<a target=\"_blank\" href=https://colab.research.google.com/notebooks/data_table.ipynb>data table notebook</a>'\n",
              "          + ' to learn more about interactive tables.';\n",
              "        element.innerHTML = '';\n",
              "        dataTable['output_type'] = 'display_data';\n",
              "        await google.colab.output.renderOutput(dataTable, element);\n",
              "        const docLink = document.createElement('div');\n",
              "        docLink.innerHTML = docLinkHtml;\n",
              "        element.appendChild(docLink);\n",
              "      }\n",
              "    </script>\n",
              "  </div>\n",
              "\n",
              "\n",
              "<div id=\"df-6d925a46-ced4-43c1-8fee-9900728bd716\">\n",
              "  <button class=\"colab-df-quickchart\" onclick=\"quickchart('df-6d925a46-ced4-43c1-8fee-9900728bd716')\"\n",
              "            title=\"Suggest charts\"\n",
              "            style=\"display:none;\">\n",
              "\n",
              "<svg xmlns=\"http://www.w3.org/2000/svg\" height=\"24px\"viewBox=\"0 0 24 24\"\n",
              "     width=\"24px\">\n",
              "    <g>\n",
              "        <path d=\"M19 3H5c-1.1 0-2 .9-2 2v14c0 1.1.9 2 2 2h14c1.1 0 2-.9 2-2V5c0-1.1-.9-2-2-2zM9 17H7v-7h2v7zm4 0h-2V7h2v10zm4 0h-2v-4h2v4z\"/>\n",
              "    </g>\n",
              "</svg>\n",
              "  </button>\n",
              "\n",
              "<style>\n",
              "  .colab-df-quickchart {\n",
              "      --bg-color: #E8F0FE;\n",
              "      --fill-color: #1967D2;\n",
              "      --hover-bg-color: #E2EBFA;\n",
              "      --hover-fill-color: #174EA6;\n",
              "      --disabled-fill-color: #AAA;\n",
              "      --disabled-bg-color: #DDD;\n",
              "  }\n",
              "\n",
              "  [theme=dark] .colab-df-quickchart {\n",
              "      --bg-color: #3B4455;\n",
              "      --fill-color: #D2E3FC;\n",
              "      --hover-bg-color: #434B5C;\n",
              "      --hover-fill-color: #FFFFFF;\n",
              "      --disabled-bg-color: #3B4455;\n",
              "      --disabled-fill-color: #666;\n",
              "  }\n",
              "\n",
              "  .colab-df-quickchart {\n",
              "    background-color: var(--bg-color);\n",
              "    border: none;\n",
              "    border-radius: 50%;\n",
              "    cursor: pointer;\n",
              "    display: none;\n",
              "    fill: var(--fill-color);\n",
              "    height: 32px;\n",
              "    padding: 0;\n",
              "    width: 32px;\n",
              "  }\n",
              "\n",
              "  .colab-df-quickchart:hover {\n",
              "    background-color: var(--hover-bg-color);\n",
              "    box-shadow: 0 1px 2px rgba(60, 64, 67, 0.3), 0 1px 3px 1px rgba(60, 64, 67, 0.15);\n",
              "    fill: var(--button-hover-fill-color);\n",
              "  }\n",
              "\n",
              "  .colab-df-quickchart-complete:disabled,\n",
              "  .colab-df-quickchart-complete:disabled:hover {\n",
              "    background-color: var(--disabled-bg-color);\n",
              "    fill: var(--disabled-fill-color);\n",
              "    box-shadow: none;\n",
              "  }\n",
              "\n",
              "  .colab-df-spinner {\n",
              "    border: 2px solid var(--fill-color);\n",
              "    border-color: transparent;\n",
              "    border-bottom-color: var(--fill-color);\n",
              "    animation:\n",
              "      spin 1s steps(1) infinite;\n",
              "  }\n",
              "\n",
              "  @keyframes spin {\n",
              "    0% {\n",
              "      border-color: transparent;\n",
              "      border-bottom-color: var(--fill-color);\n",
              "      border-left-color: var(--fill-color);\n",
              "    }\n",
              "    20% {\n",
              "      border-color: transparent;\n",
              "      border-left-color: var(--fill-color);\n",
              "      border-top-color: var(--fill-color);\n",
              "    }\n",
              "    30% {\n",
              "      border-color: transparent;\n",
              "      border-left-color: var(--fill-color);\n",
              "      border-top-color: var(--fill-color);\n",
              "      border-right-color: var(--fill-color);\n",
              "    }\n",
              "    40% {\n",
              "      border-color: transparent;\n",
              "      border-right-color: var(--fill-color);\n",
              "      border-top-color: var(--fill-color);\n",
              "    }\n",
              "    60% {\n",
              "      border-color: transparent;\n",
              "      border-right-color: var(--fill-color);\n",
              "    }\n",
              "    80% {\n",
              "      border-color: transparent;\n",
              "      border-right-color: var(--fill-color);\n",
              "      border-bottom-color: var(--fill-color);\n",
              "    }\n",
              "    90% {\n",
              "      border-color: transparent;\n",
              "      border-bottom-color: var(--fill-color);\n",
              "    }\n",
              "  }\n",
              "</style>\n",
              "\n",
              "  <script>\n",
              "    async function quickchart(key) {\n",
              "      const quickchartButtonEl =\n",
              "        document.querySelector('#' + key + ' button');\n",
              "      quickchartButtonEl.disabled = true;  // To prevent multiple clicks.\n",
              "      quickchartButtonEl.classList.add('colab-df-spinner');\n",
              "      try {\n",
              "        const charts = await google.colab.kernel.invokeFunction(\n",
              "            'suggestCharts', [key], {});\n",
              "      } catch (error) {\n",
              "        console.error('Error during call to suggestCharts:', error);\n",
              "      }\n",
              "      quickchartButtonEl.classList.remove('colab-df-spinner');\n",
              "      quickchartButtonEl.classList.add('colab-df-quickchart-complete');\n",
              "    }\n",
              "    (() => {\n",
              "      let quickchartButtonEl =\n",
              "        document.querySelector('#df-6d925a46-ced4-43c1-8fee-9900728bd716 button');\n",
              "      quickchartButtonEl.style.display =\n",
              "        google.colab.kernel.accessAllowed ? 'block' : 'none';\n",
              "    })();\n",
              "  </script>\n",
              "</div>\n",
              "\n",
              "    </div>\n",
              "  </div>\n"
            ],
            "application/vnd.google.colaboratory.intrinsic+json": {
              "type": "dataframe",
              "variable_name": "weather_df",
              "summary": "{\n  \"name\": \"weather_df\",\n  \"rows\": 40,\n  \"fields\": [\n    {\n      \"column\": \"humidity\",\n      \"properties\": {\n        \"dtype\": \"number\",\n        \"std\": 15,\n        \"min\": 39,\n        \"max\": 99,\n        \"num_unique_values\": 25,\n        \"samples\": [\n          93,\n          66,\n          87\n        ],\n        \"semantic_type\": \"\",\n        \"description\": \"\"\n      }\n    },\n    {\n      \"column\": \"sea_level\",\n      \"properties\": {\n        \"dtype\": \"number\",\n        \"std\": 4,\n        \"min\": 1003,\n        \"max\": 1019,\n        \"num_unique_values\": 17,\n        \"samples\": [\n          1006,\n          1004,\n          1008\n        ],\n        \"semantic_type\": \"\",\n        \"description\": \"\"\n      }\n    },\n    {\n      \"column\": \"temp\",\n      \"properties\": {\n        \"dtype\": \"number\",\n        \"std\": 3.043015110304004,\n        \"min\": 275.4,\n        \"max\": 287.3,\n        \"num_unique_values\": 39,\n        \"samples\": [\n          280.55,\n          277.05,\n          281.31\n        ],\n        \"semantic_type\": \"\",\n        \"description\": \"\"\n      }\n    },\n    {\n      \"column\": \"wind_speed\",\n      \"properties\": {\n        \"dtype\": \"number\",\n        \"std\": 1.0065712299810883,\n        \"min\": 0.36,\n        \"max\": 4.24,\n        \"num_unique_values\": 37,\n        \"samples\": [\n          2.23,\n          1.76,\n          1.12\n        ],\n        \"semantic_type\": \"\",\n        \"description\": \"\"\n      }\n    },\n    {\n      \"column\": \"weather\",\n      \"properties\": {\n        \"dtype\": \"category\",\n        \"num_unique_values\": 2,\n        \"samples\": [\n          \"Rain\",\n          \"Clouds\"\n        ],\n        \"semantic_type\": \"\",\n        \"description\": \"\"\n      }\n    },\n    {\n      \"column\": \"date\",\n      \"properties\": {\n        \"dtype\": \"object\",\n        \"num_unique_values\": 40,\n        \"samples\": [\n          \"2024-04-19 15:00:00\",\n          \"2024-04-19 06:00:00\"\n        ],\n        \"semantic_type\": \"\",\n        \"description\": \"\"\n      }\n    }\n  ]\n}"
            }
          },
          "metadata": {},
          "execution_count": 8
        }
      ]
    },
    {
      "cell_type": "code",
      "source": [
        "# Saving the data into the csv file\n",
        "weather_df.to_csv('/content/weather_data.csv')"
      ],
      "metadata": {
        "id": "EVPJZyPxQxLJ"
      },
      "execution_count": 11,
      "outputs": []
    },
    {
      "cell_type": "code",
      "source": [
        "import matplotlib.pyplot as plt\n",
        "import seaborn as sns\n",
        "weather_counts = weather_df[\"weather\"].value_counts()\n",
        "plt.figure(figsize=(5, 5))\n",
        "plt.pie(weather_counts, labels=weather_counts.index, autopct='%1.1f%%', startangle=50)\n",
        "plt.title('Weather')"
      ],
      "metadata": {
        "colab": {
          "base_uri": "https://localhost:8080/",
          "height": 461
        },
        "id": "6Mdn78dzHg5Q",
        "outputId": "4b27a15c-6e07-459c-bde8-f5f9eaef1363"
      },
      "execution_count": 9,
      "outputs": [
        {
          "output_type": "execute_result",
          "data": {
            "text/plain": [
              "Text(0.5, 1.0, 'Weather')"
            ]
          },
          "metadata": {},
          "execution_count": 9
        },
        {
          "output_type": "display_data",
          "data": {
            "text/plain": [
              "<Figure size 500x500 with 1 Axes>"
            ],
            "image/png": "[encoded data removed]"
          },
          "metadata": {}
        }
      ]
    },
    {
      "cell_type": "code",
      "source": [
        "plt.figure(figsize=(8, 5))\n",
        "sns.histplot(weather_df['temp'])\n",
        "plt.title('Distribution of temp')\n",
        "plt.xlabel('temp')\n",
        "plt.ylabel('Frequency')"
      ],
      "metadata": {
        "colab": {
          "base_uri": "https://localhost:8080/",
          "height": 504
        },
        "id": "13keNR14Hj3e",
        "outputId": "c4b6cf98-f3d5-431c-e5d9-ad8d321e6611"
      },
      "execution_count": 10,
      "outputs": [
        {
          "output_type": "execute_result",
          "data": {
            "text/plain": [
              "Text(0, 0.5, 'Frequency')"
            ]
          },
          "metadata": {},
          "execution_count": 10
        },
        {
          "output_type": "display_data",
          "data": {
            "text/plain": [
              "<Figure size 800x500 with 1 Axes>"
            ],
            "image/png": "[encoded data removed]"
          },
          "metadata": {}
        }
      ]
    },
    {
      "cell_type": "code",
      "source": [],
      "metadata": {
        "id": "vLKqbF5RHoYi"
      },
      "execution_count": null,
      "outputs": []
    }
  ]
}